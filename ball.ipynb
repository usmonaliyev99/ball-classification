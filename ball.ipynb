{
 "cells": [
  {
   "cell_type": "markdown",
   "metadata": {},
   "source": [
    "# Dataset"
   ]
  },
  {
   "cell_type": "markdown",
   "metadata": {},
   "source": [
    "Dataset contains football, volleyball, rugby ball, tennis ball images.\n",
    "\n",
    "You can download dataset from [this link](https://drive.google.com/file/d/1t7tK3R3PprlkjKRLEiuk0HU4L1WYp1tP/view?usp=sharing)"
   ]
  },
  {
   "cell_type": "markdown",
   "metadata": {},
   "source": [
    "# Loading dataset"
   ]
  },
  {
   "cell_type": "code",
   "execution_count": 46,
   "metadata": {},
   "outputs": [
    {
     "data": {
      "text/plain": [
       "'|===========================================================================|\\n|                  PyTorch CUDA memory summary, device ID 0                 |\\n|---------------------------------------------------------------------------|\\n|            CUDA OOMs: 32           |        cudaMalloc retries: 44        |\\n|===========================================================================|\\n|        Metric         | Cur Usage  | Peak Usage | Tot Alloc  | Tot Freed  |\\n|---------------------------------------------------------------------------|\\n| Allocated memory      | 602067 KiB |   3634 MiB |   1854 GiB |   1853 GiB |\\n|       from large pool | 566468 KiB |   3558 MiB |   1850 GiB |   1850 GiB |\\n|       from small pool |  35599 KiB |     94 MiB |      3 GiB |      3 GiB |\\n|---------------------------------------------------------------------------|\\n| Active memory         | 602067 KiB |   3634 MiB |   1854 GiB |   1853 GiB |\\n|       from large pool | 566468 KiB |   3558 MiB |   1850 GiB |   1850 GiB |\\n|       from small pool |  35599 KiB |     94 MiB |      3 GiB |      3 GiB |\\n|---------------------------------------------------------------------------|\\n| Requested memory      | 590907 KiB |   3606 MiB |   1848 GiB |   1848 GiB |\\n|       from large pool | 555396 KiB |   3530 MiB |   1845 GiB |   1844 GiB |\\n|       from small pool |  35511 KiB |     94 MiB |      3 GiB |      3 GiB |\\n|---------------------------------------------------------------------------|\\n| GPU reserved memory   |   1364 MiB |   3714 MiB |  16016 MiB |  14652 MiB |\\n|       from large pool |   1310 MiB |   3638 MiB |  15898 MiB |  14588 MiB |\\n|       from small pool |     54 MiB |     96 MiB |    118 MiB |     64 MiB |\\n|---------------------------------------------------------------------------|\\n| Non-releasable memory |    776 MiB |   1003 MiB |   1353 GiB |   1352 GiB |\\n|       from large pool |    756 MiB |    987 MiB |   1349 GiB |   1348 GiB |\\n|       from small pool |     19 MiB |     32 MiB |      4 GiB |      4 GiB |\\n|---------------------------------------------------------------------------|\\n| Allocations           |     987    |    2419    |  148199    |  147212    |\\n|       from large pool |     113    |     366    |   63737    |   63624    |\\n|       from small pool |     874    |    2060    |   84462    |   83588    |\\n|---------------------------------------------------------------------------|\\n| Active allocs         |     987    |    2419    |  148199    |  147212    |\\n|       from large pool |     113    |     366    |   63737    |   63624    |\\n|       from small pool |     874    |    2060    |   84462    |   83588    |\\n|---------------------------------------------------------------------------|\\n| GPU reserved segments |      60    |     144    |     462    |     402    |\\n|       from large pool |      33    |     105    |     403    |     370    |\\n|       from small pool |      27    |      48    |      59    |      32    |\\n|---------------------------------------------------------------------------|\\n| Non-releasable allocs |      70    |     149    |   84645    |   84575    |\\n|       from large pool |      44    |      78    |   39233    |   39189    |\\n|       from small pool |      26    |      72    |   45412    |   45386    |\\n|---------------------------------------------------------------------------|\\n| Oversize allocations  |       0    |       0    |       0    |       0    |\\n|---------------------------------------------------------------------------|\\n| Oversize GPU segments |       0    |       0    |       0    |       0    |\\n|===========================================================================|\\n'"
      ]
     },
     "execution_count": 46,
     "metadata": {},
     "output_type": "execute_result"
    }
   ],
   "source": [
    "import torch\n",
    "\n",
    "torch.cuda.is_available()\n",
    "torch.cuda.empty_cache()\n",
    "torch.cuda.memory_summary(device=None, abbreviated=False)"
   ]
  },
  {
   "cell_type": "code",
   "execution_count": 47,
   "metadata": {},
   "outputs": [
    {
     "data": {
      "text/html": [
       "<div>\n",
       "<style scoped>\n",
       "    .dataframe tbody tr th:only-of-type {\n",
       "        vertical-align: middle;\n",
       "    }\n",
       "\n",
       "    .dataframe tbody tr th {\n",
       "        vertical-align: top;\n",
       "    }\n",
       "\n",
       "    .dataframe thead th {\n",
       "        text-align: right;\n",
       "    }\n",
       "</style>\n",
       "<table border=\"1\" class=\"dataframe\">\n",
       "  <thead>\n",
       "    <tr style=\"text-align: right;\">\n",
       "      <th></th>\n",
       "      <th>path</th>\n",
       "    </tr>\n",
       "  </thead>\n",
       "  <tbody>\n",
       "    <tr>\n",
       "      <th>0</th>\n",
       "      <td>data/Volleyball/a30447a5ee9cb57b.jpg</td>\n",
       "    </tr>\n",
       "    <tr>\n",
       "      <th>1</th>\n",
       "      <td>data/Volleyball/88940ebcd4231f32.jpg</td>\n",
       "    </tr>\n",
       "    <tr>\n",
       "      <th>2</th>\n",
       "      <td>data/Volleyball/a61976b909efc09d.jpg</td>\n",
       "    </tr>\n",
       "    <tr>\n",
       "      <th>3</th>\n",
       "      <td>data/Volleyball/8b674a337a0fa3a9.jpg</td>\n",
       "    </tr>\n",
       "    <tr>\n",
       "      <th>4</th>\n",
       "      <td>data/Volleyball/018e2d73ab9b2b81.jpg</td>\n",
       "    </tr>\n",
       "    <tr>\n",
       "      <th>...</th>\n",
       "      <td>...</td>\n",
       "    </tr>\n",
       "    <tr>\n",
       "      <th>886</th>\n",
       "      <td>data/Tennis ball/2cde75e26b21c24f.jpg</td>\n",
       "    </tr>\n",
       "    <tr>\n",
       "      <th>887</th>\n",
       "      <td>data/Tennis ball/0fcefca205aa7d1f.jpg</td>\n",
       "    </tr>\n",
       "    <tr>\n",
       "      <th>888</th>\n",
       "      <td>data/Tennis ball/913e0a0f55108c65.jpg</td>\n",
       "    </tr>\n",
       "    <tr>\n",
       "      <th>889</th>\n",
       "      <td>data/Tennis ball/33a25d8a6bf9e797.jpg</td>\n",
       "    </tr>\n",
       "    <tr>\n",
       "      <th>890</th>\n",
       "      <td>data/Tennis ball/087446c2c2d5c191.jpg</td>\n",
       "    </tr>\n",
       "  </tbody>\n",
       "</table>\n",
       "<p>891 rows × 1 columns</p>\n",
       "</div>"
      ],
      "text/plain": [
       "                                      path\n",
       "0     data/Volleyball/a30447a5ee9cb57b.jpg\n",
       "1     data/Volleyball/88940ebcd4231f32.jpg\n",
       "2     data/Volleyball/a61976b909efc09d.jpg\n",
       "3     data/Volleyball/8b674a337a0fa3a9.jpg\n",
       "4     data/Volleyball/018e2d73ab9b2b81.jpg\n",
       "..                                     ...\n",
       "886  data/Tennis ball/2cde75e26b21c24f.jpg\n",
       "887  data/Tennis ball/0fcefca205aa7d1f.jpg\n",
       "888  data/Tennis ball/913e0a0f55108c65.jpg\n",
       "889  data/Tennis ball/33a25d8a6bf9e797.jpg\n",
       "890  data/Tennis ball/087446c2c2d5c191.jpg\n",
       "\n",
       "[891 rows x 1 columns]"
      ]
     },
     "execution_count": 47,
     "metadata": {},
     "output_type": "execute_result"
    }
   ],
   "source": [
    "import pandas as pd\n",
    "from glob import glob\n",
    "\n",
    "images = glob('data/*/*.jpg')\n",
    "\n",
    "df = pd.DataFrame({'path': images})\n",
    "\n",
    "df"
   ]
  },
  {
   "cell_type": "code",
   "execution_count": 48,
   "metadata": {},
   "outputs": [
    {
     "data": {
      "text/html": [
       "<div>\n",
       "<style scoped>\n",
       "    .dataframe tbody tr th:only-of-type {\n",
       "        vertical-align: middle;\n",
       "    }\n",
       "\n",
       "    .dataframe tbody tr th {\n",
       "        vertical-align: top;\n",
       "    }\n",
       "\n",
       "    .dataframe thead th {\n",
       "        text-align: right;\n",
       "    }\n",
       "</style>\n",
       "<table border=\"1\" class=\"dataframe\">\n",
       "  <thead>\n",
       "    <tr style=\"text-align: right;\">\n",
       "      <th></th>\n",
       "      <th>path</th>\n",
       "      <th>label</th>\n",
       "    </tr>\n",
       "  </thead>\n",
       "  <tbody>\n",
       "    <tr>\n",
       "      <th>0</th>\n",
       "      <td>data/Volleyball/a30447a5ee9cb57b.jpg</td>\n",
       "      <td>Volleyball</td>\n",
       "    </tr>\n",
       "    <tr>\n",
       "      <th>1</th>\n",
       "      <td>data/Volleyball/88940ebcd4231f32.jpg</td>\n",
       "      <td>Volleyball</td>\n",
       "    </tr>\n",
       "    <tr>\n",
       "      <th>2</th>\n",
       "      <td>data/Volleyball/a61976b909efc09d.jpg</td>\n",
       "      <td>Volleyball</td>\n",
       "    </tr>\n",
       "    <tr>\n",
       "      <th>3</th>\n",
       "      <td>data/Volleyball/8b674a337a0fa3a9.jpg</td>\n",
       "      <td>Volleyball</td>\n",
       "    </tr>\n",
       "    <tr>\n",
       "      <th>4</th>\n",
       "      <td>data/Volleyball/018e2d73ab9b2b81.jpg</td>\n",
       "      <td>Volleyball</td>\n",
       "    </tr>\n",
       "    <tr>\n",
       "      <th>...</th>\n",
       "      <td>...</td>\n",
       "      <td>...</td>\n",
       "    </tr>\n",
       "    <tr>\n",
       "      <th>886</th>\n",
       "      <td>data/Tennis ball/2cde75e26b21c24f.jpg</td>\n",
       "      <td>Tennis ball</td>\n",
       "    </tr>\n",
       "    <tr>\n",
       "      <th>887</th>\n",
       "      <td>data/Tennis ball/0fcefca205aa7d1f.jpg</td>\n",
       "      <td>Tennis ball</td>\n",
       "    </tr>\n",
       "    <tr>\n",
       "      <th>888</th>\n",
       "      <td>data/Tennis ball/913e0a0f55108c65.jpg</td>\n",
       "      <td>Tennis ball</td>\n",
       "    </tr>\n",
       "    <tr>\n",
       "      <th>889</th>\n",
       "      <td>data/Tennis ball/33a25d8a6bf9e797.jpg</td>\n",
       "      <td>Tennis ball</td>\n",
       "    </tr>\n",
       "    <tr>\n",
       "      <th>890</th>\n",
       "      <td>data/Tennis ball/087446c2c2d5c191.jpg</td>\n",
       "      <td>Tennis ball</td>\n",
       "    </tr>\n",
       "  </tbody>\n",
       "</table>\n",
       "<p>891 rows × 2 columns</p>\n",
       "</div>"
      ],
      "text/plain": [
       "                                      path        label\n",
       "0     data/Volleyball/a30447a5ee9cb57b.jpg   Volleyball\n",
       "1     data/Volleyball/88940ebcd4231f32.jpg   Volleyball\n",
       "2     data/Volleyball/a61976b909efc09d.jpg   Volleyball\n",
       "3     data/Volleyball/8b674a337a0fa3a9.jpg   Volleyball\n",
       "4     data/Volleyball/018e2d73ab9b2b81.jpg   Volleyball\n",
       "..                                     ...          ...\n",
       "886  data/Tennis ball/2cde75e26b21c24f.jpg  Tennis ball\n",
       "887  data/Tennis ball/0fcefca205aa7d1f.jpg  Tennis ball\n",
       "888  data/Tennis ball/913e0a0f55108c65.jpg  Tennis ball\n",
       "889  data/Tennis ball/33a25d8a6bf9e797.jpg  Tennis ball\n",
       "890  data/Tennis ball/087446c2c2d5c191.jpg  Tennis ball\n",
       "\n",
       "[891 rows x 2 columns]"
      ]
     },
     "execution_count": 48,
     "metadata": {},
     "output_type": "execute_result"
    }
   ],
   "source": [
    "labels = ['Football', 'Tennis ball', 'Volleyball']\n",
    "\n",
    "for label in labels:\n",
    "    df.loc[df.path.str.contains(label), 'label'] = label\n",
    "\n",
    "df"
   ]
  },
  {
   "cell_type": "code",
   "execution_count": 49,
   "metadata": {},
   "outputs": [],
   "source": [
    "from fastai.vision.all import ImageDataLoaders, Resize\n",
    "\n",
    "dls = ImageDataLoaders.from_df(df.values, seed=42, item_tfms=Resize((240, 240)))"
   ]
  },
  {
   "cell_type": "code",
   "execution_count": 50,
   "metadata": {},
   "outputs": [
    {
     "data": {
      "text/html": [
       "\n",
       "<style>\n",
       "    /* Turns off some styling */\n",
       "    progress {\n",
       "        /* gets rid of default border in Firefox and Opera. */\n",
       "        border: none;\n",
       "        /* Needs to be in here for Safari polyfill so background images work as expected. */\n",
       "        background-size: auto;\n",
       "    }\n",
       "    progress:not([value]), progress:not([value])::-webkit-progress-bar {\n",
       "        background: repeating-linear-gradient(45deg, #7e7e7e, #7e7e7e 10px, #5c5c5c 10px, #5c5c5c 20px);\n",
       "    }\n",
       "    .progress-bar-interrupted, .progress-bar-interrupted::-webkit-progress-bar {\n",
       "        background: #F44336;\n",
       "    }\n",
       "</style>\n"
      ],
      "text/plain": [
       "<IPython.core.display.HTML object>"
      ]
     },
     "metadata": {},
     "output_type": "display_data"
    },
    {
     "data": {
      "text/html": [
       "<table border=\"1\" class=\"dataframe\">\n",
       "  <thead>\n",
       "    <tr style=\"text-align: left;\">\n",
       "      <th>epoch</th>\n",
       "      <th>train_loss</th>\n",
       "      <th>valid_loss</th>\n",
       "      <th>accuracy</th>\n",
       "      <th>time</th>\n",
       "    </tr>\n",
       "  </thead>\n",
       "  <tbody>\n",
       "    <tr>\n",
       "      <td>0</td>\n",
       "      <td>1.210060</td>\n",
       "      <td>0.148876</td>\n",
       "      <td>0.938202</td>\n",
       "      <td>00:05</td>\n",
       "    </tr>\n",
       "  </tbody>\n",
       "</table>"
      ],
      "text/plain": [
       "<IPython.core.display.HTML object>"
      ]
     },
     "metadata": {},
     "output_type": "display_data"
    },
    {
     "data": {
      "text/html": [
       "\n",
       "<style>\n",
       "    /* Turns off some styling */\n",
       "    progress {\n",
       "        /* gets rid of default border in Firefox and Opera. */\n",
       "        border: none;\n",
       "        /* Needs to be in here for Safari polyfill so background images work as expected. */\n",
       "        background-size: auto;\n",
       "    }\n",
       "    progress:not([value]), progress:not([value])::-webkit-progress-bar {\n",
       "        background: repeating-linear-gradient(45deg, #7e7e7e, #7e7e7e 10px, #5c5c5c 10px, #5c5c5c 20px);\n",
       "    }\n",
       "    .progress-bar-interrupted, .progress-bar-interrupted::-webkit-progress-bar {\n",
       "        background: #F44336;\n",
       "    }\n",
       "</style>\n"
      ],
      "text/plain": [
       "<IPython.core.display.HTML object>"
      ]
     },
     "metadata": {},
     "output_type": "display_data"
    },
    {
     "data": {
      "text/html": [
       "<table border=\"1\" class=\"dataframe\">\n",
       "  <thead>\n",
       "    <tr style=\"text-align: left;\">\n",
       "      <th>epoch</th>\n",
       "      <th>train_loss</th>\n",
       "      <th>valid_loss</th>\n",
       "      <th>accuracy</th>\n",
       "      <th>time</th>\n",
       "    </tr>\n",
       "  </thead>\n",
       "  <tbody>\n",
       "    <tr>\n",
       "      <td>0</td>\n",
       "      <td>0.276791</td>\n",
       "      <td>0.126384</td>\n",
       "      <td>0.960674</td>\n",
       "      <td>00:06</td>\n",
       "    </tr>\n",
       "    <tr>\n",
       "      <td>1</td>\n",
       "      <td>0.181471</td>\n",
       "      <td>0.135425</td>\n",
       "      <td>0.943820</td>\n",
       "      <td>00:06</td>\n",
       "    </tr>\n",
       "    <tr>\n",
       "      <td>2</td>\n",
       "      <td>0.119911</td>\n",
       "      <td>0.121825</td>\n",
       "      <td>0.949438</td>\n",
       "      <td>00:06</td>\n",
       "    </tr>\n",
       "  </tbody>\n",
       "</table>"
      ],
      "text/plain": [
       "<IPython.core.display.HTML object>"
      ]
     },
     "metadata": {},
     "output_type": "display_data"
    }
   ],
   "source": [
    "from fastai.vision.all import vision_learner, resnet34, accuracy\n",
    "\n",
    "learn = vision_learner(dls, resnet34, metrics=accuracy)\n",
    "learn.fine_tune(3)"
   ]
  },
  {
   "cell_type": "code",
   "execution_count": 51,
   "metadata": {},
   "outputs": [],
   "source": [
    "learn.export('models/ball-classifier.pkl')"
   ]
  },
  {
   "cell_type": "code",
   "execution_count": 52,
   "metadata": {},
   "outputs": [
    {
     "data": {
      "text/html": [
       "\n",
       "<style>\n",
       "    /* Turns off some styling */\n",
       "    progress {\n",
       "        /* gets rid of default border in Firefox and Opera. */\n",
       "        border: none;\n",
       "        /* Needs to be in here for Safari polyfill so background images work as expected. */\n",
       "        background-size: auto;\n",
       "    }\n",
       "    progress:not([value]), progress:not([value])::-webkit-progress-bar {\n",
       "        background: repeating-linear-gradient(45deg, #7e7e7e, #7e7e7e 10px, #5c5c5c 10px, #5c5c5c 20px);\n",
       "    }\n",
       "    .progress-bar-interrupted, .progress-bar-interrupted::-webkit-progress-bar {\n",
       "        background: #F44336;\n",
       "    }\n",
       "</style>\n"
      ],
      "text/plain": [
       "<IPython.core.display.HTML object>"
      ]
     },
     "metadata": {},
     "output_type": "display_data"
    },
    {
     "data": {
      "text/html": [],
      "text/plain": [
       "<IPython.core.display.HTML object>"
      ]
     },
     "metadata": {},
     "output_type": "display_data"
    },
    {
     "data": {
      "text/html": [
       "\n",
       "<style>\n",
       "    /* Turns off some styling */\n",
       "    progress {\n",
       "        /* gets rid of default border in Firefox and Opera. */\n",
       "        border: none;\n",
       "        /* Needs to be in here for Safari polyfill so background images work as expected. */\n",
       "        background-size: auto;\n",
       "    }\n",
       "    progress:not([value]), progress:not([value])::-webkit-progress-bar {\n",
       "        background: repeating-linear-gradient(45deg, #7e7e7e, #7e7e7e 10px, #5c5c5c 10px, #5c5c5c 20px);\n",
       "    }\n",
       "    .progress-bar-interrupted, .progress-bar-interrupted::-webkit-progress-bar {\n",
       "        background: #F44336;\n",
       "    }\n",
       "</style>\n"
      ],
      "text/plain": [
       "<IPython.core.display.HTML object>"
      ]
     },
     "metadata": {},
     "output_type": "display_data"
    },
    {
     "data": {
      "text/html": [],
      "text/plain": [
       "<IPython.core.display.HTML object>"
      ]
     },
     "metadata": {},
     "output_type": "display_data"
    },
    {
     "data": {
      "image/png": "[encoded data removed]",
      "text/plain": [
       "<Figure size 640x480 with 1 Axes>"
      ]
     },
     "metadata": {},
     "output_type": "display_data"
    }
   ],
   "source": [
    "from fastai.vision.all import ClassificationInterpretation\n",
    "\n",
    "inter = ClassificationInterpretation.from_learner(learn)\n",
    "inter.plot_confusion_matrix()"
   ]
  }
 ],
 "metadata": {
  "kernelspec": {
   "display_name": ".venv",
   "language": "python",
   "name": "python3"
  },
  "language_info": {
   "codemirror_mode": {
    "name": "ipython",
    "version": 3
   },
   "file_extension": ".py",
   "mimetype": "text/x-python",
   "name": "python",
   "nbconvert_exporter": "python",
   "pygments_lexer": "ipython3",
   "version": "3.12.3"
  }
 },
 "nbformat": 4,
 "nbformat_minor": 2
}
